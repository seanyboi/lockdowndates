{
 "cells": [
  {
   "cell_type": "code",
   "execution_count": null,
   "metadata": {},
   "outputs": [],
   "source": [
    "# hide\n",
    "%load_ext autoreload\n",
    "%autoreload 2"
   ]
  },
  {
   "cell_type": "code",
   "execution_count": null,
   "metadata": {},
   "outputs": [],
   "source": [
    "# default_exp core"
   ]
  },
  {
   "cell_type": "markdown",
   "metadata": {},
   "source": [
    "# lockdowndates\n",
    "\n",
    "> Retrieve the dates of restructions imposed on countries around the world during the covid pandemic. Helpful for maching learning projects with a time element during the feature engineering phase."
   ]
  },
  {
   "cell_type": "code",
   "execution_count": null,
   "metadata": {},
   "outputs": [],
   "source": [
    "#hide\n",
    "from nbdev.showdoc import *"
   ]
  },
  {
   "cell_type": "code",
   "execution_count": null,
   "metadata": {},
   "outputs": [],
   "source": [
    "#export\n",
    "\n",
    "import pandas as pd\n",
    "import numpy as np\n",
    "from datetime import datetime as dt\n",
    "from typing import List, Union"
   ]
  },
  {
   "cell_type": "code",
   "execution_count": null,
   "metadata": {},
   "outputs": [],
   "source": [
    "# export\n",
    "class LockdownDates:\n",
    "    '''\n",
    "       Retrieve the dates of the restrictions in countries imposed by governments around the world during the covid-19 pandemic. \n",
    "       \n",
    "       `country`: Country from table of countries in README.md\n",
    "       <br/>`start_date`: Date you wish to collect dates from in \"YYYY-MM-DD\" format\n",
    "       <br/>`end_date`: Date you wish to collect dates from in \"YYYY-MM-DD\" format\n",
    "    '''\n",
    "    \n",
    "    lockdown_url = 'https://raw.githubusercontent.com/OxCGRT/covid-policy-tracker/master/data/OxCGRT_latest.csv'\n",
    "    \n",
    "    def __init__(self, country:Union[List[str],str], start_date:str, end_date:str):\n",
    "        \n",
    "        if isinstance(country, list):\n",
    "            self.country = country\n",
    "        else:\n",
    "            self.country = [country]\n",
    "            \n",
    "        if isinstance(start_date, str):\n",
    "            self.start_date = dt.strptime(start_date, \"%Y-%m-%d\")\n",
    "            \n",
    "        if isinstance(end_date, str):\n",
    "            self.end_date = dt.strptime(end_date, \"%Y-%m-%d\")\n",
    "        \n",
    "    @classmethod\n",
    "    def fetch(cls) -> pd.DataFrame:\n",
    "        \n",
    "        df_dtype = {\n",
    "            \"CountryName\": str,\n",
    "            \"CountryCode\": str,\n",
    "            \"Date\": str,\n",
    "        }\n",
    "        \n",
    "        usecols=[\"CountryName\", \"CountryCode\", \"Date\", \"C6_Stay at home requirements\"]\n",
    "        \n",
    "        print(\"Fetching lockdown dates...\")\n",
    "        try:\n",
    "            lockdown_df = pd.read_csv(cls.lockdown_url, usecols=usecols, dtype=df_dtype, engine=\"pyarrow\")\n",
    "        except Exception as e:\n",
    "            print(f\"Error fetching lockdown data - {e}\")\n",
    "\n",
    "        return lockdown_df\n",
    "    \n",
    "    \n",
    "    def engineer_df(self) -> pd.DataFrame:\n",
    "        # fetch data\n",
    "        df = self.fetch()\n",
    "        \n",
    "        try:\n",
    "        \n",
    "            # rename columns\n",
    "            rename_columns = columns={\n",
    "                \"CountryName\": \"country\", \n",
    "                \"CountryCode\": \"country_code\", \n",
    "                \"Date\": \"timestamp\", \n",
    "                \"C6_Stay at home requirements\": \"stay_at_home\",\n",
    "            }\n",
    "\n",
    "            df = df.rename(columns=rename_columns)\n",
    "\n",
    "            # configure dates and set_index\n",
    "            df[\"timestamp\"] = df[\"timestamp\"].str.replace(r'(\\d{4})(\\d{2})(\\d{2})', r'\\g<1>-\\g<2>-\\g<3>', regex=True)\n",
    "            df[\"timestamp\"] = pd.to_datetime(df[\"timestamp\"])\n",
    "\n",
    "            # convert columns to categories\n",
    "            for col in ['country', 'country_code', 'stay_at_home']:\n",
    "                df[col] = df[col].astype('category')\n",
    "\n",
    "            if len(self.country) == 1:\n",
    "                print(f\"Fetched lockdown dates for: {self.country[0]}\")\n",
    "            else:\n",
    "                print(f\"Fetched lockdown dates for: {', '.join(self.country)}\")\n",
    "\n",
    "            return df\n",
    "        except Exception as e:\n",
    "            print(f\"Formatting data failed - please raise an issue on our repo! - {e}\")\n",
    "    \n",
    "    def filter_df(self) -> pd.DataFrame:\n",
    "        df = self.engineer_df()\n",
    "        \n",
    "        try: \n",
    "            df = df[df['country'].isin(self.country)]\n",
    "            df = df.pivot_table(index=\"timestamp\", columns='country', aggfunc='first')\n",
    "            df.columns = [\"{}_{}\".format(col[1].lower().replace(\"'\", \"\").replace(\" \", \"\"), col[0]) for col in df.columns.values]\n",
    "            df = df.loc[self.start_date : self.end_date]\n",
    "        \n",
    "            if df.empty and len(self.country) == 1:\n",
    "                raise Exception(f\"No lockdown data for {self.country[0]}\")\n",
    "            if df.empty:\n",
    "                raise Exception(f\"No lockdown data for {self.country}\")\n",
    "        except:\n",
    "            print(f\"No lockdown data for {self.country} between {self.start_date} and {self.end_date}\")\n",
    "        \n",
    "        return df\n",
    "    \n",
    "    def dates(self, save:bool = False) -> pd.DataFrame:\n",
    "        '''\n",
    "        Returns the restriction lockdown dates for a specific set of countries.\n",
    "        \n",
    "        <b>Parameters</b>\n",
    "            <br/> &nbsp;&nbsp;&nbsp;&nbsp; `save` : bool, optional\n",
    "            <br/>&nbsp;&nbsp;&nbsp;&nbsp;&nbsp;&nbsp;&nbsp;&nbsp; saves restrictions to a csv file for caching (default is False)\n",
    "    \n",
    "        <b>Returns</b>:\n",
    "            <br/> &nbsp;&nbsp;&nbsp;&nbsp; DataFrame containing the dates a country was subject to certain restrictions during the pandemic.\n",
    "\n",
    "        <b>Raises</b>:\n",
    "            <br/> &nbsp;&nbsp;&nbsp;&nbsp; Exception: failed to collect data.\n",
    "        '''\n",
    "        restrictions = self.filter_df()\n",
    "        try:\n",
    "            if save:\n",
    "                output_file = f\"lockdown-restrictions.csv\"\n",
    "                output_dir = Path(\"lockdown_data\")\n",
    "                output_dir.mkdir(parents=True, exist_ok=True)\n",
    "                restrictions.to_csv(output_dir / output_file, index=False)\n",
    "                print(f\"Saved restrictions to - {output_dir}/{output_file}\")\n",
    "        except Exception as e:\n",
    "            print(f\"Failed to save restrictions to csv file - {e}\")\n",
    "        \n",
    "        return restrictions"
   ]
  },
  {
   "cell_type": "code",
   "execution_count": null,
   "metadata": {},
   "outputs": [
    {
     "data": {
      "text/markdown": [
       "<h4 id=\"LockdownDates.dates\" class=\"doc_header\"><code>LockdownDates.dates</code><a href=\"__main__.py#L97\" class=\"source_link\" style=\"float:right\">[source]</a></h4>\n",
       "\n",
       "> <code>LockdownDates.dates</code>(**`save`**:`bool`=*`False`*)\n",
       "\n",
       "Returns the restriction lockdown dates for a specific set of countries.\n",
       "\n",
       "<b>Parameters</b>\n",
       "    <br/> &nbsp;&nbsp;&nbsp;&nbsp; `save` : bool, optional\n",
       "    <br/>&nbsp;&nbsp;&nbsp;&nbsp;&nbsp;&nbsp;&nbsp;&nbsp; saves restrictions to a csv file for caching (default is False)\n",
       "\n",
       "<b>Returns</b>:\n",
       "    <br/> &nbsp;&nbsp;&nbsp;&nbsp; DataFrame containing the dates a country was subject to certain restrictions during the pandemic.\n",
       "\n",
       "<b>Raises</b>:\n",
       "    <br/> &nbsp;&nbsp;&nbsp;&nbsp; Exception: failed to collect data."
      ],
      "text/plain": [
       "<IPython.core.display.Markdown object>"
      ]
     },
     "metadata": {},
     "output_type": "display_data"
    }
   ],
   "source": [
    "show_doc(LockdownDates.dates)"
   ]
  },
  {
   "cell_type": "code",
   "execution_count": null,
   "metadata": {},
   "outputs": [],
   "source": [
    "#slow\n",
    "ld = LockdownDates(\"Aruba\", \"2022-01-01\", \"2022-01-30\")"
   ]
  },
  {
   "cell_type": "code",
   "execution_count": null,
   "metadata": {},
   "outputs": [],
   "source": [
    "assert ld.country==[\"Aruba\"]\n",
    "assert type(ld.country)==list"
   ]
  },
  {
   "cell_type": "code",
   "execution_count": null,
   "metadata": {},
   "outputs": [],
   "source": [
    "assert ld.start_date==dt(2022, 1, 1, 0, 0)\n",
    "assert type(ld.start_date)==dt"
   ]
  },
  {
   "cell_type": "code",
   "execution_count": null,
   "metadata": {},
   "outputs": [],
   "source": [
    "assert ld.end_date==dt(2022, 1, 30, 0, 0)\n",
    "assert type(ld.end_date)==dt"
   ]
  },
  {
   "cell_type": "code",
   "execution_count": null,
   "metadata": {},
   "outputs": [
    {
     "name": "stdout",
     "output_type": "stream",
     "text": [
      "Converted 00_core.ipynb.\n",
      "Converted index.ipynb.\n"
     ]
    }
   ],
   "source": [
    "# hide\n",
    "from nbdev.export import notebook2script; notebook2script()"
   ]
  }
 ],
 "metadata": {
  "kernelspec": {
   "display_name": "Python 3 (ipykernel)",
   "language": "python",
   "name": "python3"
  }
 },
 "nbformat": 4,
 "nbformat_minor": 2
}
